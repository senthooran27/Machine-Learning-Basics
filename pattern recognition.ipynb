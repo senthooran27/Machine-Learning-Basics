{
 "cells": [
  {
   "cell_type": "code",
   "execution_count": 1,
   "id": "60f75af7",
   "metadata": {},
   "outputs": [
    {
     "data": {
      "image/png": "[encoded data removed]",
      "text/plain": [
       "<Figure size 432x288 with 1 Axes>"
      ]
     },
     "metadata": {
      "needs_background": "light"
     },
     "output_type": "display_data"
    }
   ],
   "source": [
    "import matplotlib.pyplot as plt\n",
    "\n",
    "c = [1,1,2,2,3,4]\n",
    "d = [1,2,2,3,0,0]\n",
    "    \n",
    "a = [3,3,3]\n",
    "b = [1,1,1]\n",
    "\n",
    "plt.scatter(c,d,c='red')\n",
    "plt.scatter(a,b,c='blue')\n",
    "plt.show()"
   ]
  },
  {
   "cell_type": "code",
   "execution_count": 2,
   "id": "12c6ae0d",
   "metadata": {},
   "outputs": [
    {
     "name": "stdout",
     "output_type": "stream",
     "text": [
      "   x  y class\n",
      "0  1  1     A\n",
      "1  1  2     A\n",
      "2  2  2     A\n",
      "3  2  3     A\n",
      "4  3  0     A\n",
      "5  4  0     A\n",
      "6  3  1     B\n",
      "7  3  1     B\n",
      "8  3  1     B\n",
      "{'A': 0, 'B': 1}\n",
      "0.6666666666666666\n"
     ]
    }
   ],
   "source": [
    "import pandas as pd\n",
    "from sklearn import svm\n",
    "from sklearn.metrics import accuracy_score\n",
    "from sklearn import preprocessing\n",
    "\n",
    "list=[[1,1,'A'],[1,2,'A'],[2,2,'A'],[2,3,'A'],[3,0,'A'],[4,0,'A'],[3,1,'B'],[3,1,'B'],[3,1,'B']]\n",
    "df = pd.DataFrame(list,columns=['x','y','class'])\n",
    "df1 = pd.DataFrame(list,columns=['x','y','class'])\n",
    "y1=df1['class'].values\n",
    "print(df)\n",
    "\n",
    "label_encoder=preprocessing.LabelEncoder()\n",
    "df['class']=label_encoder.fit_transform(df['class'])\n",
    "le_name_mapping = dict(zip(label_encoder.classes_, label_encoder.transform(label_encoder.classes_)))\n",
    "print(le_name_mapping)\n",
    "\n",
    "x=df[['x','y']]\n",
    "y=df['class']\n",
    "\n",
    "svm_model = svm.SVC(kernel='linear')\n",
    "svm_model.fit(x,y)\n",
    "\n",
    "y_pred = svm_model.predict(x)\n",
    "s=accuracy_score(y_pred,y)\n",
    "\n",
    "print(s)\n",
    "\n",
    "e=df[['x','y']].values\n",
    "r=df['class'].values"
   ]
  },
  {
   "cell_type": "code",
   "execution_count": 3,
   "id": "58b4dd27",
   "metadata": {},
   "outputs": [
    {
     "name": "stderr",
     "output_type": "stream",
     "text": [
      "C:\\Users\\senth\\anaconda3\\lib\\site-packages\\sklearn\\base.py:439: UserWarning: X does not have valid feature names, but SVC was fitted with feature names\n",
      "  warnings.warn(\n",
      "C:\\Users\\senth\\anaconda3\\lib\\site-packages\\mlxtend\\plotting\\decision_regions.py:315: UserWarning: No contour levels were found within the data range.\n",
      "  ax.contour(xx, yy, Z, cset.levels, **contour_kwargs)\n"
     ]
    },
    {
     "data": {
      "image/png": "[encoded data removed]",
      "text/plain": [
       "<Figure size 432x288 with 1 Axes>"
      ]
     },
     "metadata": {
      "needs_background": "light"
     },
     "output_type": "display_data"
    },
    {
     "name": "stdout",
     "output_type": "stream",
     "text": [
      "[0. 0.]\n",
      "-1.0\n"
     ]
    }
   ],
   "source": [
    "def draw(x,y,model):\n",
    "    from mlxtend.plotting import plot_decision_regions\n",
    "    import matplotlib.pyplot as plt\n",
    "    plot_decision_regions(x,y,clf=model)\n",
    "    plt.show()\n",
    "\n",
    "draw(e,r,svm_model)\n",
    "\n",
    "w=svm_model.coef_[0]\n",
    "print(w)\n",
    "print(svm_model.intercept_[0])"
   ]
  },
  {
   "cell_type": "code",
   "execution_count": 4,
   "id": "6800af7a",
   "metadata": {},
   "outputs": [
    {
     "data": {
      "text/plain": [
       "0.5555555555555556"
      ]
     },
     "execution_count": 4,
     "metadata": {},
     "output_type": "execute_result"
    }
   ],
   "source": [
    "from sklearn.linear_model import LogisticRegression\n",
    "LRM = LogisticRegression(random_state=0,max_iter=200)\n",
    "LRM.fit(x,y1)\n",
    "y_pred = LRM.predict(x)\n",
    "accuracy_score(y_pred,y1)"
   ]
  },
  {
   "cell_type": "code",
   "execution_count": 12,
   "id": "6ade5124",
   "metadata": {},
   "outputs": [
    {
     "name": "stdout",
     "output_type": "stream",
     "text": [
      "1.0\n"
     ]
    },
    {
     "data": {
      "image/png": "[encoded data removed]",
      "text/plain": [
       "<Figure size 432x288 with 1 Axes>"
      ]
     },
     "metadata": {
      "needs_background": "light"
     },
     "output_type": "display_data"
    }
   ],
   "source": [
    "svm_model = svm.SVC(kernel='poly',degree=3)\n",
    "svm_model.fit(e,r)\n",
    "\n",
    "y_pred = svm_model.predict(e)\n",
    "s=accuracy_score(y_pred,r)\n",
    "\n",
    "print(s)\n",
    "\n",
    "e=df[['x','y']].values\n",
    "r=df['class'].values\n",
    "draw(e,r,svm_model)\n"
   ]
  },
  {
   "cell_type": "code",
   "execution_count": 7,
   "id": "2cea73b5",
   "metadata": {},
   "outputs": [
    {
     "name": "stdout",
     "output_type": "stream",
     "text": [
      "1.0\n"
     ]
    },
    {
     "data": {
      "image/png": "[encoded data removed]",
      "text/plain": [
       "<Figure size 432x288 with 1 Axes>"
      ]
     },
     "metadata": {
      "needs_background": "light"
     },
     "output_type": "display_data"
    }
   ],
   "source": [
    "from sklearn.naive_bayes import GaussianNB\n",
    "model_GNB = GaussianNB()\n",
    "model_GNB.fit(e,r)\n",
    "y_pred = model_GNB.predict(e)\n",
    "print(accuracy_score(y_pred,r))\n",
    "draw(e,r,model_GNB)"
   ]
  }
 ],
 "metadata": {
  "kernelspec": {
   "display_name": "Python 3 (ipykernel)",
   "language": "python",
   "name": "python3"
  },
  "language_info": {
   "codemirror_mode": {
    "name": "ipython",
    "version": 3
   },
   "file_extension": ".py",
   "mimetype": "text/x-python",
   "name": "python",
   "nbconvert_exporter": "python",
   "pygments_lexer": "ipython3",
   "version": "3.9.12"
  }
 },
 "nbformat": 4,
 "nbformat_minor": 5
}
