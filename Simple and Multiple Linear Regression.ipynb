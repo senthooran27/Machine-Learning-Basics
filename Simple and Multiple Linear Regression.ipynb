{
 "cells": [
  {
   "cell_type": "code",
   "execution_count": 21,
   "id": "9d347382",
   "metadata": {},
   "outputs": [
    {
     "name": "stdout",
     "output_type": "stream",
     "text": [
      "simple linear regression:\n",
      "coefficient of determination: 0.9639543681644273\n",
      "intercept: 5.114515574896934\n",
      "slope: [2.90270442]\n",
      "\n",
      "multiple linear regression:\n",
      "coefficient of determination: 0.9811374834912948\n",
      "intercept: 2.263791434404581\n",
      "coefficients: [2.74426964 0.01252781]\n"
     ]
    }
   ],
   "source": [
    "import numpy as np\n",
    "from sklearn.linear_model import LinearRegression\n",
    "import pandas as pd\n",
    "model = LinearRegression()\n",
    "\n",
    "print(\"simple linear regression:\")\n",
    "x = np.array([2,8,11,10,8,4,2,2,9,8,4,11,12,2,4,4,20,1,10,15,15,16,17,6,5]).reshape((-1, 1))\n",
    "y = np.array([9.95,24.45,31.75,35.00,25.02,16.86,14.38,9.60,24.35,27.50,17.08,37.00,41.95,11.66,21.65,17.89,69.00,10.30,34.93,46.59,44.88,54.12,56.63,22.13,21.15]\n",
    ")\n",
    "model.fit(x, y)\n",
    "r_sq = model.score(x, y)\n",
    "print(f\"coefficient of determination: {r_sq}\")\n",
    "print(f\"intercept: {model.intercept_}\")\n",
    "print(f\"slope: {model.coef_}\")\n",
    "\n",
    "print(\"\\nmultiple linear regression:\")\n",
    "x1= [[2, 50],\n",
    "     [8,110],\n",
    "     [11,120],\n",
    "     [10,550],\n",
    "     [8,295],\n",
    "     [4,200],\n",
    "     [2,375],\n",
    "     [2,52],\n",
    "     [9,100],\n",
    "     [8,300],\n",
    "     [4,412],\n",
    "     [11,400],\n",
    "     [12,500],\n",
    "     [2,360],\n",
    "     [4,205],\n",
    "     [4,400],\n",
    "     [20,600],\n",
    "     [1,585],\n",
    "     [10,540],\n",
    "     [15,250],\n",
    "     [15,290],\n",
    "     [16,510],\n",
    "     [17,590],\n",
    "     [6,100],\n",
    "     [5,400]]\n",
    "x2=[50,110,120,550,295,200,375,52,100,300,412,400,500,360,205,400,600,585,540,250,290,510,590,100,400]\n",
    "y1 =[9.95,24.45,31.75,35.00,25.02,16.86,14.38,9.60,24.35,27.50,17.08,37.00,41.95,11.66,21.65,17.89,69.00,10.30,34.93,46.59,44.88,54.12,56.63,22.13,21.15]\n",
    "x11, y11 = np.array(x1), np.array(y1)\n",
    "\n",
    "model = LinearRegression().fit(x11, y11)\n",
    "r_sq = model.score(x11, y11)\n",
    "print(f\"coefficient of determination: {r_sq}\")\n",
    "print(f\"intercept: {model.intercept_}\")\n",
    "print(f\"coefficients: {model.coef_}\")"
   ]
  },
  {
   "cell_type": "code",
   "execution_count": 4,
   "id": "69ab7392",
   "metadata": {},
   "outputs": [
    {
     "data": {
      "text/plain": [
       "array([[  2,   8,  11,  10,   8,   4,   2,   2,   9,   8,   4,  11,  12,\n",
       "          2,   4,   4,  20,   1,  10,  15,  15,  16,  17,   6,   5],\n",
       "       [ 50, 110, 120, 550, 295, 200, 375,  52, 100, 300, 412, 400, 500,\n",
       "        360, 205, 400, 600, 585, 540, 250, 290, 510, 590, 100, 400]])"
      ]
     },
     "execution_count": 4,
     "metadata": {},
     "output_type": "execute_result"
    }
   ],
   "source": []
  },
  {
   "cell_type": "code",
   "execution_count": null,
   "id": "edf3f005",
   "metadata": {},
   "outputs": [],
   "source": []
  }
 ],
 "metadata": {
  "kernelspec": {
   "display_name": "Python 3 (ipykernel)",
   "language": "python",
   "name": "python3"
  },
  "language_info": {
   "codemirror_mode": {
    "name": "ipython",
    "version": 3
   },
   "file_extension": ".py",
   "mimetype": "text/x-python",
   "name": "python",
   "nbconvert_exporter": "python",
   "pygments_lexer": "ipython3",
   "version": "3.9.12"
  }
 },
 "nbformat": 4,
 "nbformat_minor": 5
}
